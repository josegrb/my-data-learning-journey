{
  "metadata": {
    "kernelspec": {
      "name": "python",
      "display_name": "Python (Pyodide)",
      "language": "python"
    },
    "language_info": {
      "codemirror_mode": {
        "name": "python",
        "version": 3
      },
      "file_extension": ".py",
      "mimetype": "text/x-python",
      "name": "python",
      "nbconvert_exporter": "python",
      "pygments_lexer": "ipython3",
      "version": "3.8"
    },
    "ExecuteTimeLog": [
      {
        "duration": 5,
        "start_time": "2025-04-28T09:13:33.247Z"
      },
      {
        "duration": 21,
        "start_time": "2025-04-28T09:14:37.541Z"
      },
      {
        "duration": 3,
        "start_time": "2025-04-28T09:38:38.015Z"
      },
      {
        "duration": 279,
        "start_time": "2025-04-29T08:59:04.213Z"
      },
      {
        "duration": 114,
        "start_time": "2025-04-29T08:59:04.494Z"
      },
      {
        "duration": 7,
        "start_time": "2025-04-29T08:59:04.609Z"
      },
      {
        "duration": 28,
        "start_time": "2025-04-29T08:59:04.618Z"
      },
      {
        "duration": 3,
        "start_time": "2025-04-29T08:59:04.649Z"
      },
      {
        "duration": 176,
        "start_time": "2025-04-29T09:07:37.652Z"
      },
      {
        "duration": 334,
        "start_time": "2025-04-29T09:08:38.303Z"
      },
      {
        "duration": 3,
        "start_time": "2025-04-29T09:11:59.568Z"
      },
      {
        "duration": 3,
        "start_time": "2025-04-29T09:13:09.107Z"
      },
      {
        "duration": 4,
        "start_time": "2025-04-29T09:13:17.034Z"
      },
      {
        "duration": 3,
        "start_time": "2025-04-29T09:15:02.092Z"
      },
      {
        "duration": 13,
        "start_time": "2025-04-29T09:17:51.563Z"
      },
      {
        "duration": 3,
        "start_time": "2025-04-29T09:18:06.247Z"
      },
      {
        "duration": 7,
        "start_time": "2025-04-29T09:25:12.286Z"
      },
      {
        "duration": 9,
        "start_time": "2025-04-29T09:25:37.811Z"
      },
      {
        "duration": 7,
        "start_time": "2025-04-29T09:25:48.788Z"
      },
      {
        "duration": 3,
        "start_time": "2025-04-29T09:26:22.746Z"
      },
      {
        "duration": 16,
        "start_time": "2025-04-29T09:36:24.828Z"
      },
      {
        "duration": 16,
        "start_time": "2025-04-29T09:36:55.399Z"
      },
      {
        "duration": 389,
        "start_time": "2025-04-29T09:39:23.792Z"
      },
      {
        "duration": 23,
        "start_time": "2025-04-29T09:39:44.603Z"
      },
      {
        "duration": 16,
        "start_time": "2025-04-29T09:40:16.975Z"
      },
      {
        "duration": 2,
        "start_time": "2025-04-29T22:39:14.544Z"
      },
      {
        "duration": 110,
        "start_time": "2025-04-29T22:39:14.548Z"
      },
      {
        "duration": 6,
        "start_time": "2025-04-29T22:39:14.659Z"
      },
      {
        "duration": 23,
        "start_time": "2025-04-29T22:39:14.668Z"
      },
      {
        "duration": 3,
        "start_time": "2025-04-29T22:39:14.692Z"
      },
      {
        "duration": 4,
        "start_time": "2025-04-29T22:39:14.697Z"
      },
      {
        "duration": 4,
        "start_time": "2025-04-29T22:39:14.704Z"
      },
      {
        "duration": 33,
        "start_time": "2025-04-29T22:39:14.710Z"
      },
      {
        "duration": 3,
        "start_time": "2025-04-29T22:39:14.747Z"
      },
      {
        "duration": 26,
        "start_time": "2025-04-29T22:39:14.752Z"
      },
      {
        "duration": 27,
        "start_time": "2025-04-29T22:39:14.779Z"
      },
      {
        "duration": 44,
        "start_time": "2025-04-29T22:39:14.809Z"
      },
      {
        "duration": 3,
        "start_time": "2025-04-29T22:39:14.855Z"
      },
      {
        "duration": 3,
        "start_time": "2025-04-29T22:39:14.859Z"
      },
      {
        "duration": 5,
        "start_time": "2025-04-29T22:39:14.864Z"
      },
      {
        "duration": 5,
        "start_time": "2025-04-29T22:39:14.872Z"
      },
      {
        "duration": 3,
        "start_time": "2025-04-29T22:39:14.879Z"
      },
      {
        "duration": 3,
        "start_time": "2025-04-29T22:39:14.887Z"
      },
      {
        "duration": 3,
        "start_time": "2025-04-29T22:39:14.892Z"
      },
      {
        "duration": 2,
        "start_time": "2025-04-29T22:39:14.897Z"
      },
      {
        "duration": 3,
        "start_time": "2025-04-29T22:39:14.901Z"
      },
      {
        "duration": 6,
        "start_time": "2025-04-29T22:39:14.905Z"
      },
      {
        "duration": 31,
        "start_time": "2025-04-29T22:39:14.913Z"
      },
      {
        "duration": 3,
        "start_time": "2025-04-29T22:39:14.948Z"
      },
      {
        "duration": 3,
        "start_time": "2025-04-29T22:39:14.953Z"
      },
      {
        "duration": 3,
        "start_time": "2025-04-29T22:39:14.958Z"
      },
      {
        "duration": 4,
        "start_time": "2025-04-29T22:39:14.962Z"
      },
      {
        "duration": 3,
        "start_time": "2025-04-29T22:39:14.967Z"
      },
      {
        "duration": 72,
        "start_time": "2025-04-29T22:39:48.960Z"
      },
      {
        "duration": 50,
        "start_time": "2025-04-29T22:40:08.725Z"
      },
      {
        "duration": 2,
        "start_time": "2025-04-29T22:40:17.699Z"
      },
      {
        "duration": 44,
        "start_time": "2025-04-29T22:40:21.808Z"
      },
      {
        "duration": 6,
        "start_time": "2025-04-29T22:46:55.544Z"
      },
      {
        "duration": 6,
        "start_time": "2025-04-29T22:51:07.519Z"
      },
      {
        "duration": 158,
        "start_time": "2025-04-30T00:24:55.132Z"
      },
      {
        "duration": 3,
        "start_time": "2025-04-30T00:25:26.352Z"
      },
      {
        "duration": 12,
        "start_time": "2025-04-30T00:25:30.062Z"
      },
      {
        "duration": 305,
        "start_time": "2025-04-30T00:25:59.480Z"
      },
      {
        "duration": 106,
        "start_time": "2025-04-30T00:25:59.787Z"
      },
      {
        "duration": 8,
        "start_time": "2025-04-30T00:25:59.895Z"
      },
      {
        "duration": 29,
        "start_time": "2025-04-30T00:25:59.904Z"
      },
      {
        "duration": 2,
        "start_time": "2025-04-30T00:25:59.936Z"
      },
      {
        "duration": 5,
        "start_time": "2025-04-30T00:25:59.940Z"
      },
      {
        "duration": 5,
        "start_time": "2025-04-30T00:25:59.946Z"
      },
      {
        "duration": 9,
        "start_time": "2025-04-30T00:25:59.952Z"
      },
      {
        "duration": 3,
        "start_time": "2025-04-30T00:25:59.963Z"
      },
      {
        "duration": 17,
        "start_time": "2025-04-30T00:25:59.968Z"
      },
      {
        "duration": 67,
        "start_time": "2025-04-30T00:25:59.987Z"
      },
      {
        "duration": 17,
        "start_time": "2025-04-30T00:26:00.056Z"
      },
      {
        "duration": 59,
        "start_time": "2025-04-30T00:26:00.074Z"
      },
      {
        "duration": 56,
        "start_time": "2025-04-30T00:26:00.136Z"
      },
      {
        "duration": 51,
        "start_time": "2025-04-30T00:26:00.194Z"
      },
      {
        "duration": 5,
        "start_time": "2025-04-30T00:26:00.247Z"
      },
      {
        "duration": 4,
        "start_time": "2025-04-30T00:26:00.254Z"
      },
      {
        "duration": 49,
        "start_time": "2025-04-30T00:26:05.809Z"
      },
      {
        "duration": 3,
        "start_time": "2025-04-30T00:26:41.353Z"
      },
      {
        "duration": 7,
        "start_time": "2025-04-30T00:26:44.486Z"
      },
      {
        "duration": 6,
        "start_time": "2025-04-30T00:26:48.267Z"
      },
      {
        "duration": 14,
        "start_time": "2025-04-30T00:28:05.594Z"
      },
      {
        "duration": 12,
        "start_time": "2025-04-30T00:28:48.692Z"
      },
      {
        "duration": 158,
        "start_time": "2025-04-30T08:52:31.382Z"
      },
      {
        "duration": 326,
        "start_time": "2025-04-30T08:53:06.759Z"
      },
      {
        "duration": 108,
        "start_time": "2025-04-30T08:53:07.088Z"
      },
      {
        "duration": 7,
        "start_time": "2025-04-30T08:53:07.198Z"
      },
      {
        "duration": 20,
        "start_time": "2025-04-30T08:53:07.206Z"
      },
      {
        "duration": 3,
        "start_time": "2025-04-30T08:53:07.242Z"
      },
      {
        "duration": 4,
        "start_time": "2025-04-30T08:53:07.247Z"
      },
      {
        "duration": 6,
        "start_time": "2025-04-30T08:53:07.253Z"
      },
      {
        "duration": 7,
        "start_time": "2025-04-30T08:53:07.261Z"
      },
      {
        "duration": 4,
        "start_time": "2025-04-30T08:53:07.269Z"
      },
      {
        "duration": 16,
        "start_time": "2025-04-30T08:53:07.275Z"
      },
      {
        "duration": 56,
        "start_time": "2025-04-30T08:53:07.294Z"
      },
      {
        "duration": 16,
        "start_time": "2025-04-30T08:53:07.351Z"
      },
      {
        "duration": 43,
        "start_time": "2025-04-30T08:53:07.369Z"
      },
      {
        "duration": 65,
        "start_time": "2025-04-30T08:53:07.415Z"
      },
      {
        "duration": 37,
        "start_time": "2025-04-30T08:53:07.482Z"
      },
      {
        "duration": 10,
        "start_time": "2025-04-30T08:53:10.225Z"
      },
      {
        "duration": 6,
        "start_time": "2025-04-30T08:54:23.285Z"
      },
      {
        "duration": 3,
        "start_time": "2025-04-30T08:54:37.401Z"
      },
      {
        "duration": 95,
        "start_time": "2025-04-30T08:54:37.406Z"
      },
      {
        "duration": 6,
        "start_time": "2025-04-30T08:54:37.503Z"
      },
      {
        "duration": 19,
        "start_time": "2025-04-30T08:54:37.511Z"
      },
      {
        "duration": 3,
        "start_time": "2025-04-30T08:54:37.543Z"
      },
      {
        "duration": 4,
        "start_time": "2025-04-30T08:54:37.548Z"
      },
      {
        "duration": 4,
        "start_time": "2025-04-30T08:54:37.553Z"
      },
      {
        "duration": 6,
        "start_time": "2025-04-30T08:54:37.559Z"
      },
      {
        "duration": 3,
        "start_time": "2025-04-30T08:54:37.567Z"
      },
      {
        "duration": 18,
        "start_time": "2025-04-30T08:54:37.572Z"
      },
      {
        "duration": 62,
        "start_time": "2025-04-30T08:54:37.592Z"
      },
      {
        "duration": 16,
        "start_time": "2025-04-30T08:54:37.657Z"
      },
      {
        "duration": 40,
        "start_time": "2025-04-30T08:54:37.675Z"
      },
      {
        "duration": 66,
        "start_time": "2025-04-30T08:54:37.718Z"
      },
      {
        "duration": 36,
        "start_time": "2025-04-30T08:54:37.786Z"
      },
      {
        "duration": 22,
        "start_time": "2025-04-30T08:54:37.824Z"
      },
      {
        "duration": 3,
        "start_time": "2025-04-30T08:54:37.847Z"
      },
      {
        "duration": 8,
        "start_time": "2025-04-30T08:54:37.851Z"
      },
      {
        "duration": 6,
        "start_time": "2025-04-30T08:54:41.528Z"
      },
      {
        "duration": 11,
        "start_time": "2025-04-30T08:55:16.733Z"
      },
      {
        "duration": 4,
        "start_time": "2025-04-30T09:39:05.448Z"
      },
      {
        "duration": 3,
        "start_time": "2025-04-30T09:39:21.911Z"
      },
      {
        "duration": 23,
        "start_time": "2025-04-30T09:40:18.553Z"
      },
      {
        "duration": 359,
        "start_time": "2025-04-30T20:32:27.427Z"
      },
      {
        "duration": 147,
        "start_time": "2025-04-30T20:32:27.788Z"
      },
      {
        "duration": 8,
        "start_time": "2025-04-30T20:32:27.937Z"
      },
      {
        "duration": 29,
        "start_time": "2025-04-30T20:32:27.947Z"
      },
      {
        "duration": 5,
        "start_time": "2025-04-30T20:32:27.978Z"
      },
      {
        "duration": 4,
        "start_time": "2025-04-30T20:32:27.984Z"
      },
      {
        "duration": 22,
        "start_time": "2025-04-30T20:32:27.990Z"
      },
      {
        "duration": 11,
        "start_time": "2025-04-30T20:32:28.014Z"
      },
      {
        "duration": 4,
        "start_time": "2025-04-30T20:32:28.027Z"
      },
      {
        "duration": 24,
        "start_time": "2025-04-30T20:32:28.035Z"
      },
      {
        "duration": 49,
        "start_time": "2025-04-30T20:32:28.063Z"
      },
      {
        "duration": 18,
        "start_time": "2025-04-30T20:32:28.114Z"
      },
      {
        "duration": 87,
        "start_time": "2025-04-30T20:32:28.134Z"
      },
      {
        "duration": 74,
        "start_time": "2025-04-30T20:32:28.223Z"
      },
      {
        "duration": 51,
        "start_time": "2025-04-30T20:32:28.298Z"
      },
      {
        "duration": 11,
        "start_time": "2025-04-30T20:32:28.351Z"
      },
      {
        "duration": 3,
        "start_time": "2025-04-30T20:32:28.363Z"
      },
      {
        "duration": 8,
        "start_time": "2025-04-30T20:32:28.368Z"
      },
      {
        "duration": 40,
        "start_time": "2025-04-30T20:32:28.378Z"
      },
      {
        "duration": 300,
        "start_time": "2025-04-30T21:56:21.683Z"
      },
      {
        "duration": 114,
        "start_time": "2025-04-30T21:56:21.985Z"
      },
      {
        "duration": 8,
        "start_time": "2025-04-30T21:56:22.100Z"
      },
      {
        "duration": 22,
        "start_time": "2025-04-30T21:56:22.110Z"
      },
      {
        "duration": 3,
        "start_time": "2025-04-30T21:56:22.136Z"
      },
      {
        "duration": 4,
        "start_time": "2025-04-30T21:56:22.140Z"
      },
      {
        "duration": 3,
        "start_time": "2025-04-30T21:56:22.170Z"
      },
      {
        "duration": 8,
        "start_time": "2025-04-30T21:56:22.175Z"
      },
      {
        "duration": 3,
        "start_time": "2025-04-30T21:56:22.186Z"
      },
      {
        "duration": 17,
        "start_time": "2025-04-30T21:56:22.190Z"
      },
      {
        "duration": 22,
        "start_time": "2025-04-30T21:56:22.209Z"
      },
      {
        "duration": 45,
        "start_time": "2025-04-30T21:56:22.233Z"
      },
      {
        "duration": 42,
        "start_time": "2025-04-30T21:56:22.279Z"
      },
      {
        "duration": 63,
        "start_time": "2025-04-30T21:56:22.324Z"
      },
      {
        "duration": 38,
        "start_time": "2025-04-30T21:56:22.388Z"
      },
      {
        "duration": 10,
        "start_time": "2025-04-30T21:56:22.428Z"
      },
      {
        "duration": 2,
        "start_time": "2025-04-30T21:56:22.440Z"
      },
      {
        "duration": 28,
        "start_time": "2025-04-30T21:56:22.444Z"
      },
      {
        "duration": 10,
        "start_time": "2025-04-30T21:56:22.473Z"
      },
      {
        "duration": 7,
        "start_time": "2025-04-30T21:56:41.261Z"
      },
      {
        "duration": 17,
        "start_time": "2025-04-30T22:38:28.070Z"
      },
      {
        "duration": 3,
        "start_time": "2025-04-30T22:41:15.872Z"
      },
      {
        "duration": 99,
        "start_time": "2025-04-30T22:41:15.884Z"
      },
      {
        "duration": 5,
        "start_time": "2025-04-30T22:41:15.985Z"
      },
      {
        "duration": 20,
        "start_time": "2025-04-30T22:41:15.991Z"
      },
      {
        "duration": 2,
        "start_time": "2025-04-30T22:41:16.013Z"
      },
      {
        "duration": 4,
        "start_time": "2025-04-30T22:41:16.017Z"
      },
      {
        "duration": 3,
        "start_time": "2025-04-30T22:41:16.024Z"
      },
      {
        "duration": 6,
        "start_time": "2025-04-30T22:41:16.029Z"
      },
      {
        "duration": 34,
        "start_time": "2025-04-30T22:41:16.037Z"
      },
      {
        "duration": 16,
        "start_time": "2025-04-30T22:41:16.073Z"
      },
      {
        "duration": 24,
        "start_time": "2025-04-30T22:41:16.091Z"
      },
      {
        "duration": 16,
        "start_time": "2025-04-30T22:41:16.117Z"
      },
      {
        "duration": 68,
        "start_time": "2025-04-30T22:41:16.134Z"
      },
      {
        "duration": 43,
        "start_time": "2025-04-30T22:41:16.204Z"
      },
      {
        "duration": 53,
        "start_time": "2025-04-30T22:41:16.251Z"
      },
      {
        "duration": 9,
        "start_time": "2025-04-30T22:41:16.306Z"
      },
      {
        "duration": 4,
        "start_time": "2025-04-30T22:41:16.317Z"
      },
      {
        "duration": 9,
        "start_time": "2025-04-30T22:41:16.323Z"
      },
      {
        "duration": 36,
        "start_time": "2025-04-30T22:41:16.334Z"
      },
      {
        "duration": 6,
        "start_time": "2025-04-30T22:41:16.372Z"
      },
      {
        "duration": 3,
        "start_time": "2025-04-30T23:13:39.164Z"
      },
      {
        "duration": 12,
        "start_time": "2025-04-30T23:20:22.912Z"
      },
      {
        "duration": 13,
        "start_time": "2025-04-30T23:20:28.433Z"
      },
      {
        "duration": 2,
        "start_time": "2025-04-30T23:20:37.959Z"
      },
      {
        "duration": 94,
        "start_time": "2025-04-30T23:20:37.963Z"
      },
      {
        "duration": 12,
        "start_time": "2025-04-30T23:20:38.059Z"
      },
      {
        "duration": 22,
        "start_time": "2025-04-30T23:20:38.073Z"
      },
      {
        "duration": 3,
        "start_time": "2025-04-30T23:20:38.097Z"
      },
      {
        "duration": 6,
        "start_time": "2025-04-30T23:20:38.104Z"
      },
      {
        "duration": 4,
        "start_time": "2025-04-30T23:20:38.111Z"
      },
      {
        "duration": 6,
        "start_time": "2025-04-30T23:20:38.117Z"
      },
      {
        "duration": 3,
        "start_time": "2025-04-30T23:20:38.126Z"
      },
      {
        "duration": 51,
        "start_time": "2025-04-30T23:20:38.130Z"
      },
      {
        "duration": 26,
        "start_time": "2025-04-30T23:20:38.183Z"
      },
      {
        "duration": 17,
        "start_time": "2025-04-30T23:20:38.210Z"
      },
      {
        "duration": 65,
        "start_time": "2025-04-30T23:20:38.228Z"
      },
      {
        "duration": 45,
        "start_time": "2025-04-30T23:20:38.295Z"
      },
      {
        "duration": 51,
        "start_time": "2025-04-30T23:20:38.342Z"
      },
      {
        "duration": 10,
        "start_time": "2025-04-30T23:20:38.395Z"
      },
      {
        "duration": 2,
        "start_time": "2025-04-30T23:20:38.407Z"
      },
      {
        "duration": 7,
        "start_time": "2025-04-30T23:20:38.411Z"
      },
      {
        "duration": 9,
        "start_time": "2025-04-30T23:20:38.420Z"
      },
      {
        "duration": 7,
        "start_time": "2025-04-30T23:20:38.431Z"
      },
      {
        "duration": 43,
        "start_time": "2025-04-30T23:20:38.440Z"
      },
      {
        "duration": 3,
        "start_time": "2025-04-30T23:20:38.484Z"
      },
      {
        "duration": 13,
        "start_time": "2025-04-30T23:20:38.489Z"
      },
      {
        "duration": 10,
        "start_time": "2025-04-30T23:20:38.505Z"
      },
      {
        "duration": 11,
        "start_time": "2025-04-30T23:20:38.517Z"
      },
      {
        "duration": 10,
        "start_time": "2025-04-30T23:20:38.529Z"
      },
      {
        "duration": 40,
        "start_time": "2025-04-30T23:20:38.540Z"
      },
      {
        "duration": 10,
        "start_time": "2025-04-30T23:20:38.582Z"
      }
    ],
    "colab": {
      "collapsed_sections": [
        "E0vqbgi9ay0H",
        "VUC88oWjTJw2"
      ],
      "provenance": []
    },
    "toc": {
      "base_numbering": 1,
      "nav_menu": {},
      "number_sections": true,
      "sideBar": true,
      "skip_h1_title": true,
      "title_cell": "Table of Contents",
      "title_sidebar": "Contents",
      "toc_cell": false,
      "toc_position": {},
      "toc_section_display": true,
      "toc_window_display": false
    }
  },
  "nbformat_minor": 4,
  "nbformat": 4,
  "cells": [
    {
      "cell_type": "markdown",
      "source": "# Se liga na música",
      "metadata": {
        "id": "E0vqbgi9ay0H"
      }
    },
    {
      "cell_type": "markdown",
      "source": "# Conteúdo <a id='back'></a>\n\n* [Introdução](#intro)\n* [Etapa 1. Visão geral dos dados](#data_review)\n    * [Conclusões](#data_review_conclusions)\n* [Etapa 2. Pré-processamento de dados](#data_preprocessing)\n    * [2.1 Estilo do cabeçalho](#header_style)\n    * [2.2 Valores ausentes](#missing_values)\n    * [2.3 Duplicados](#duplicates)\n    * [2.4 Conclusões](#data_preprocessing_conclusions)\n* [Etapa 3. Teste da hipótese](#hypothesis)\n    * [3.1 Hipótese 1: atividade dos usuários nas duas cidades](#activity)\n* [Conclusões](#end)",
      "metadata": {
        "id": "fhq_eyov_Zcs"
      }
    },
    {
      "cell_type": "markdown",
      "source": "## Introdução <a id='intro'></a>\nO trabalho de um analista é analisar dados para obter percepções valiosas dos dados e tomar decisões fundamentadas neles. Esse processo consiste em várias etapas, como visão geral dos dados, pré-processamento dos dados e testes de hipóteses.\n\nSempre que fazemos uma pesquisa, precisamos formular uma hipótese que depois poderemos testar. Às vezes nós aceitamos essas hipóteses; outras vezes, nós as rejeitamos. Para fazer as escolhas certas, um negócio deve ser capaz de entender se está fazendo as suposições certas ou não.\n\nNeste projeto, você vai comparar as preferências musicais dos habitantes de Springfild e Shelbyville. Você vai estudar os dados de um serviço de streaming de música online para testar a hipótese apresentada abaixo e comparar o comportamento dos usuários dessas duas cidades.\n\n### Objetivo:\nTeste a hipótese:\n1. A atividade dos usuários é diferente dependendo do dia da semana e da cidade.\n\n\n### Etapas\nOs dados sobre o comportamento do usuário são armazenados no arquivo `/datasets/music_project_en.csv`. Não há informações sobre a qualidade dos dados, então será necessário examiná-los antes de testar a hipótese.\n\nPrimeiro, você avaliará a qualidade dos dados e verá se seus problemas são significativos. Depois, durante o pré-processamento dos dados, você tentará tratar dos problemas mais críticos.\n\nO seu projeto consistirá em três etapas:\n 1. Visão geral dos dados\n 2. Pré-processamento de dados\n 3. Teste da hipótese\n\n\n\n\n\n\n",
      "metadata": {
        "id": "VUC88oWjTJw2"
      }
    },
    {
      "cell_type": "markdown",
      "source": "[Voltar ao Índice](#back)",
      "metadata": {
        "id": "hDt6pg-Rw-1U"
      }
    },
    {
      "cell_type": "markdown",
      "source": "## Etapa 1. Visão geral dos dados <a id='data_review'></a>\n\nAbra os dados e examine-os.",
      "metadata": {
        "id": "Ml1hmfXC_Zcs"
      }
    },
    {
      "cell_type": "markdown",
      "source": "Você precisará da `pandas`, então, importe-a.",
      "metadata": {
        "id": "57eAOGIz_Zcs"
      }
    },
    {
      "cell_type": "code",
      "source": "# importando pandas\nimport pandas as pd",
      "metadata": {
        "id": "AXN7PHPN_Zcs",
        "trusted": false
      },
      "outputs": [],
      "execution_count": 45
    },
    {
      "cell_type": "markdown",
      "source": "Leia o arquivo `music_project_en.csv` da pasta `/datasets/` e salve-o na variável `df`:",
      "metadata": {
        "id": "SG23P8tt_Zcs"
      }
    },
    {
      "cell_type": "code",
      "source": "# lendo o arquivo e armazenando em df\ndf = pd.read_csv(\"/datasets/music_project_en.csv\")",
      "metadata": {
        "id": "fFVu7vqh_Zct",
        "trusted": false
      },
      "outputs": [],
      "execution_count": 46
    },
    {
      "cell_type": "markdown",
      "source": "Imprima as primeiras 10 linhas da tabela:",
      "metadata": {
        "id": "rDoOMd3uTqnZ"
      }
    },
    {
      "cell_type": "code",
      "source": "# obtenha as 10 primeiras 10 linhas da tabela df\nprint(df.head(10))",
      "metadata": {
        "id": "oWTVX3gW_Zct",
        "trusted": false,
        "scrolled": true
      },
      "outputs": [
        {
          "name": "stdout",
          "output_type": "stream",
          "text": "     userID                        Track            artist   genre  \\\n0  FFB692EC            Kamigata To Boots  The Mass Missile    rock   \n1  55204538  Delayed Because of Accident  Andreas Rönnberg    rock   \n2    20EC38            Funiculì funiculà       Mario Lanza     pop   \n3  A3DD03C9        Dragons in the Sunset        Fire + Ice    folk   \n4  E2DC1FAE                  Soul People        Space Echo   dance   \n5  842029A1                       Chains          Obladaet  rusrap   \n6  4CB90AA5                         True      Roman Messer   dance   \n7  F03E1C1F             Feeling This Way   Polina Griffith   dance   \n8  8FA1D3BE                     L’estate       Julia Dalia  ruspop   \n\n        City        time        Day  \n0  Shelbyville  20:28:33  Wednesday  \n1  Springfield  14:07:09     Friday  \n2  Shelbyville  20:58:07  Wednesday  \n3  Shelbyville  08:37:09     Monday  \n4  Springfield  08:34:34     Monday  \n5  Shelbyville  13:09:41     Friday  \n6  Springfield  13:00:07  Wednesday  \n7  Springfield  20:47:49  Wednesday  \n8  Springfield  09:17:40     Friday  \n"
        }
      ],
      "execution_count": 47
    },
    {
      "cell_type": "markdown",
      "source": "Obtenha informações gerais sobre a tabela usando um comando. Você conhece o método para exibir informações gerais que precisamos obter.",
      "metadata": {
        "id": "EO73Kwic_Zct"
      }
    },
    {
      "cell_type": "code",
      "source": "# obtendo informações gerais sobre os nossos dados\nprint(df.info())",
      "metadata": {
        "id": "DSf2kIb-_Zct",
        "trusted": false
      },
      "outputs": [
        {
          "name": "stdout",
          "output_type": "stream",
          "text": "<class 'pandas.core.frame.DataFrame'>\nRangeIndex: 65079 entries, 0 to 65078\nData columns (total 7 columns):\n #   Column    Non-Null Count  Dtype \n---  ------    --------------  ----- \n 0     userID  65079 non-null  object\n 1   Track     63736 non-null  object\n 2   artist    57512 non-null  object\n 3   genre     63881 non-null  object\n 4     City    65079 non-null  object\n 5   time      65079 non-null  object\n 6   Day       65079 non-null  object\ndtypes: object(7)\nmemory usage: 3.5+ MB\nNone\n"
        }
      ],
      "execution_count": 48
    },
    {
      "cell_type": "markdown",
      "source": "Aqui estão as nossas observações sobre a tabela. Ela contém sete colunas. Elas armazenam o mesmo tipo de dado: `object`.\n\nDe acordo com a documentação:\n- `' userID'` — identificação do usuário\n- `'Track'` — título da música\n- `'artist'` — nome do artista\n- `'genre'` — gênero da música\n- `'City'` — cidade do usuário\n- `'time'` — o tempo exato que a música foi reproduzida\n- `'Day'` — dia da semana\n\nPodemos ver três problemas de estilo nos cabeçalhos da tabela:\n1. Alguns cabeçalhos são escritos em letras maiúsculas, outros estão em minúsculas.\n2. Alguns cabeçalhos contêm espaços.\n4. O nome da coluna 'userID' além de ter espaço deveria ter um snake case para separar as palavras.\n3. As colunas 'Track', 'artist' e 'genre' tem valores ausentes.\n\n\n",
      "metadata": {
        "id": "TaQ2Iwbr_Zct"
      }
    },
    {
      "cell_type": "markdown",
      "source": "### Escreva suas observações. Aqui estão algumas perguntas que podem ajudar: <a id='data_review_conclusions'></a>\n\n`1.   Que tipo de dados temos nas linhas? E como podemos entender as colunas?`\n\n     - Tipos de dados = object (texto/strings) onde cada coluna representa um dado ou caracteristica de cada usuário `\n\n`2.   Esses dados são suficientes para responder à nossa hipótese ou precisamos de mais dados?`\n\n     - Para responder à parte da hipótese de que o comportamento de cada usuário varia dependendo do dia da semana, sim. Mas, para comparar se varia conforme a cidade, não temos informações suficientes sobre o número de usuários em cada cidade e seu comportamento individual`\n\n`3.   Você notou algum problema nos dados, como valores ausentes, duplicados ou tipos de dados errados`\n\n     - Até agora, podemos observar que as colunas Track, Artist e Genre apresentam valores ausentes. A coluna Artist, por exemplo, possui 7.567 valores nulos (57.512 preenchidos de um total de 65.079). Além disso, os nomes das colunas não apresentam títulos consistentes, pois há uso de maiúsculas, espaços e termos pouco descritivos (ex: ' City', com espaço no início)`",
      "metadata": {
        "id": "MCB6-dXG_Zct"
      }
    },
    {
      "cell_type": "markdown",
      "source": "[Voltar ao Índice](#back)",
      "metadata": {
        "id": "3eL__vcwViOi"
      }
    },
    {
      "cell_type": "markdown",
      "source": "## Etapa 2. Pré-processamento de dados <a id='data_preprocessing'></a>\n\nO objetivo aqui é preparar os dados para a análise.\nO primeiro passo é resolver todos os problemas com o cabeçalho. E então podemos passar para os valores ausentes e duplicados. Vamos começar.\n\nCorrija a formatação nos cabeçalhos da tabela.\n",
      "metadata": {
        "id": "SjYF6Ub9_Zct"
      }
    },
    {
      "cell_type": "markdown",
      "source": "### Estilo do cabeçalho <a id='header_style'></a>\nImprima os cabeçalhos da tabela (os nomes das colunas):",
      "metadata": {
        "id": "dIaKXr29_Zct"
      }
    },
    {
      "cell_type": "code",
      "source": "# imprima os nomes das colunas\nprint(df.columns)",
      "metadata": {
        "id": "oKOTdF_Q_Zct",
        "trusted": false
      },
      "outputs": [
        {
          "name": "stdout",
          "output_type": "stream",
          "text": "Index(['  userID', 'Track', 'artist', 'genre', '  City  ', 'time', 'Day'], dtype='object')\n"
        }
      ],
      "execution_count": 49
    },
    {
      "cell_type": "markdown",
      "source": "Mude os cabeçalhos da tabela conforme as boas práticas de estilo:\n* Todos os caracteres precisam estar com letras minúsculas\n* Exclua espaços\n* Se o nome tiver várias palavras, use snake_case",
      "metadata": {
        "id": "zj5534cv_Zct"
      }
    },
    {
      "cell_type": "code",
      "source": "# Percorrendo os cabeçalhos e convertendo tudo em minúsculos\n\nmin_names = []\n\nfor old_name in df.columns:\n    name_lowered = old_name.lower()\n    min_names.append(name_lowered)\n    \ndf.columns = min_names\nprint(df.columns)",
      "metadata": {
        "id": "6I_RwwMhzM4e",
        "trusted": false
      },
      "outputs": [
        {
          "name": "stdout",
          "output_type": "stream",
          "text": "Index(['  userid', 'track', 'artist', 'genre', '  city  ', 'time', 'day'], dtype='object')\n"
        }
      ],
      "execution_count": 50
    },
    {
      "cell_type": "markdown",
      "source": "Agora, usando a mesma abordagem, exclua os espaços no início e no final de cada nome de coluna e imprima os nomes das colunas novamente:",
      "metadata": {
        "id": "pweIRxjSzPYW"
      }
    },
    {
      "cell_type": "code",
      "source": "# Percorrendo os cabeçalhos e removendo os espaços\n\nstp_names = []\n\nfor old_name in df.columns:\n    name_stripped = old_name.strip()\n    stp_names.append(name_stripped)\n    \ndf.columns = stp_names\nprint(df.columns)",
      "metadata": {
        "id": "vVQXbFyJzSYl",
        "trusted": false
      },
      "outputs": [
        {
          "name": "stdout",
          "output_type": "stream",
          "text": "Index(['userid', 'track', 'artist', 'genre', 'city', 'time', 'day'], dtype='object')\n"
        }
      ],
      "execution_count": 51
    },
    {
      "cell_type": "markdown",
      "source": "Precisamos aplicar a regra de sublinhado no lugar de espaço à coluna `userid`. Deveria ser `user_id`. Renomeie essa coluna e imprima os nomes de todas as colunas quando terminar.",
      "metadata": {
        "id": "yCb8MW1JzURd"
      }
    },
    {
      "cell_type": "code",
      "source": "# Renomeando a coluna \"userid\"\n\ndf = df.rename(columns={\n    'userid': 'user_id'\n})\n\nprint(df.columns)",
      "metadata": {
        "id": "ISlFqs5y_Zct",
        "trusted": false
      },
      "outputs": [
        {
          "name": "stdout",
          "output_type": "stream",
          "text": "Index(['user_id', 'track', 'artist', 'genre', 'city', 'time', 'day'], dtype='object')\n"
        }
      ],
      "execution_count": 52
    },
    {
      "cell_type": "markdown",
      "source": "Verifique o resultado. Imprima os cabeçalhos novamente:",
      "metadata": {
        "id": "1dqbh00J_Zct"
      }
    },
    {
      "cell_type": "code",
      "source": "# verificando o resultado: a lista de cabeçalhos\nprint(df.columns)",
      "metadata": {
        "id": "d4NOAmTW_Zct",
        "trusted": false
      },
      "outputs": [
        {
          "name": "stdout",
          "output_type": "stream",
          "text": "Index(['user_id', 'track', 'artist', 'genre', 'city', 'time', 'day'], dtype='object')\n"
        }
      ],
      "execution_count": 53
    },
    {
      "cell_type": "markdown",
      "source": "[Voltar ao Índice](#back)",
      "metadata": {
        "id": "xYJk6ksJVpOl"
      }
    },
    {
      "cell_type": "markdown",
      "source": "### Valores Ausentes <a id='missing_values'></a>\n Primeiro, encontre a quantidade de valores ausentes na tabela. Você precisa usar dois métodos em sequência para obter o número de valores ausentes.",
      "metadata": {
        "id": "5ISfbcfY_Zct"
      }
    },
    {
      "cell_type": "code",
      "source": "# calculando o número de valores ausentes\n\nmissing_val = df.isna().sum()\n\nprint(missing_val)",
      "metadata": {
        "id": "RskX29qr_Zct",
        "trusted": false
      },
      "outputs": [
        {
          "name": "stdout",
          "output_type": "stream",
          "text": "user_id       0\ntrack      1343\nartist     7567\ngenre      1198\ncity          0\ntime          0\nday           0\ndtype: int64\n"
        }
      ],
      "execution_count": 54
    },
    {
      "cell_type": "markdown",
      "source": "Nem todos os valores ausentes afetam a pesquisa. Por exemplo, os valores ausentes em `track` e `artist` não são críticos. Você pode simplesmente substituí-los por valores padrão, como a string `'unknown'`.\n\nMas valores ausentes em `'genre'` podem afetar a comparação de preferências musicais de Springfield e Shelbyville. Na vida real, seria útil descobrir as razões pelas quais os dados estão ausentes e tentar corrigi-los. Mas nós não temos essa possibilidade neste projeto. Então, você terá que:\n* Preencha esses valores ausentes com um valor padrão\n* Avalie em que medida os valores ausentes podem afetar sua análise",
      "metadata": {
        "id": "qubhgnlO_Zct"
      }
    },
    {
      "cell_type": "markdown",
      "source": "Substitua os valores ausentes nas colunas `'track'`, `'artist'` e `'genre'` pela string `'unknown'`. Como mostramos nas lições anteriores, a melhor maneira de fazer isso é criar uma lista para armazenar os nomes das colunas nas quais precisamos fazer a substituição. Em seguida, use essa lista e percorra as colunas nas quais a substituição seja necessária e faça a substituição.",
      "metadata": {
        "id": "fSv2laPA_Zct"
      }
    },
    {
      "cell_type": "code",
      "source": "# percorrendo os cabeçalhos e substituindo valores ausentes por 'unknown'\n\ncolumns_to_rep = ['genre', 'artist', 'track']\n\nfor col in columns_to_rep:\n    df[col].fillna('unknown', inplace=True)\n\nprint(df.isna().sum())",
      "metadata": {
        "id": "KplB5qWs_Zct",
        "trusted": false
      },
      "outputs": [
        {
          "name": "stdout",
          "output_type": "stream",
          "text": "user_id    0\ntrack      0\nartist     0\ngenre      0\ncity       0\ntime       0\nday        0\ndtype: int64\n"
        }
      ],
      "execution_count": 55
    },
    {
      "cell_type": "markdown",
      "source": "Agora verifique o resultado para ter certeza de que o conjunto de dados não contenha valores ausentes após a substituição. Para fazer isso, conte os valores ausentes novamente.",
      "metadata": {
        "id": "Ilsm-MZo_Zct"
      }
    },
    {
      "cell_type": "code",
      "source": "# contando os valores ausentes\n\nmissing_val = df.isna().sum()\n\nprint(missing_val)",
      "metadata": {
        "id": "Tq4nYRX4_Zct",
        "trusted": false
      },
      "outputs": [
        {
          "name": "stdout",
          "output_type": "stream",
          "text": "user_id    0\ntrack      0\nartist     0\ngenre      0\ncity       0\ntime       0\nday        0\ndtype: int64\n"
        }
      ],
      "execution_count": 56
    },
    {
      "cell_type": "markdown",
      "source": "[Voltar ao Índice](#back)",
      "metadata": {
        "id": "74ZIBmq9VrsK"
      }
    },
    {
      "cell_type": "markdown",
      "source": "### Duplicados <a id='duplicates'></a>\nEncontre o número de duplicados explícitos na tabela. Lembre-se de que você precisa aplicar dois métodos em sequência para obter o número de duplicados explícitos.",
      "metadata": {
        "id": "BWKRtBJ3_Zct"
      }
    },
    {
      "cell_type": "code",
      "source": "# contando duplicados explícitos\n\nprint(df.duplicated().sum())",
      "metadata": {
        "id": "36eES_S0_Zct",
        "trusted": false
      },
      "outputs": [
        {
          "name": "stdout",
          "output_type": "stream",
          "text": "3826\n"
        }
      ],
      "execution_count": 57
    },
    {
      "cell_type": "markdown",
      "source": "Agora descarte todos os duplicados. Para fazer isso, chame o método que faz exatamente isso.",
      "metadata": {
        "id": "Ot25h6XR_Zct"
      }
    },
    {
      "cell_type": "code",
      "source": "# removendo duplicados explícitos\ndf.drop_duplicates(inplace=True)",
      "metadata": {
        "id": "exFHq6tt_Zct",
        "trusted": false
      },
      "outputs": [],
      "execution_count": 58
    },
    {
      "cell_type": "markdown",
      "source": "Agora vamos verificar se descartamos todos os duplicados. Conte duplicados explícitos mais uma vez para ter certeza de que você removeu todos eles:",
      "metadata": {
        "id": "Im2YwBEG_Zct"
      }
    },
    {
      "cell_type": "code",
      "source": "# verificando duplicados novamente\nprint(df.duplicated().sum())",
      "metadata": {
        "id": "-8PuNWQ0_Zct",
        "scrolled": true,
        "trusted": false
      },
      "outputs": [
        {
          "name": "stdout",
          "output_type": "stream",
          "text": "0\n"
        }
      ],
      "execution_count": 59
    },
    {
      "cell_type": "markdown",
      "source": "Agora queremos nos livrar dos duplicados implícitos na coluna `genre`. Por exemplo, o nome de um gênero pode ser escrito de maneiras diferentes. Alguns erros afetarão também o resultado.",
      "metadata": {
        "id": "QlFBsxAr_Zct"
      }
    },
    {
      "cell_type": "markdown",
      "source": "Para fazer isso, vamos começar imprimindo uma lista de nomes de gênero únicos, ordenados em ordem alfabética: Para fazer isso:\n* Extraia a coluna `genre` do DataFrame\n* Chame o método que retornará todos os valores únicos na coluna extraída\n",
      "metadata": {
        "id": "eSjWwsOh_Zct"
      }
    },
    {
      "cell_type": "code",
      "source": "# visualizando nomes de gêneros únicos\n\ngenre_names = sorted(df['genre'].unique())\ngenre_names_qty = df['genre'].nunique()\nprint(genre_names)\nprint(genre_names_qty)",
      "metadata": {
        "id": "JIUcqzZN_Zct",
        "trusted": false
      },
      "outputs": [
        {
          "name": "stdout",
          "output_type": "stream",
          "text": "['acid', 'acoustic', 'action', 'adult', 'africa', 'afrikaans', 'alternative', 'ambient', 'americana', 'animated', 'anime', 'arabesk', 'arabic', 'arena', 'argentinetango', 'art', 'audiobook', 'avantgarde', 'axé', 'baile', 'balkan', 'beats', 'bigroom', 'black', 'bluegrass', 'blues', 'bollywood', 'bossa', 'brazilian', 'breakbeat', 'breaks', 'broadway', 'cantautori', 'cantopop', 'canzone', 'caribbean', 'caucasian', 'celtic', 'chamber', 'children', 'chill', 'chinese', 'choral', 'christian', 'christmas', 'classical', 'classicmetal', 'club', 'colombian', 'comedy', 'conjazz', 'contemporary', 'country', 'cuban', 'dance', 'dancehall', 'dancepop', 'dark', 'death', 'deep', 'deutschrock', 'deutschspr', 'dirty', 'disco', 'dnb', 'documentary', 'downbeat', 'downtempo', 'drum', 'dub', 'dubstep', 'eastern', 'easy', 'electronic', 'electropop', 'emo', 'entehno', 'epicmetal', 'estrada', 'ethnic', 'eurofolk', 'european', 'experimental', 'extrememetal', 'fado', 'film', 'fitness', 'flamenco', 'folk', 'folklore', 'folkmetal', 'folkrock', 'folktronica', 'forró', 'frankreich', 'französisch', 'french', 'funk', 'future', 'gangsta', 'garage', 'german', 'ghazal', 'gitarre', 'glitch', 'gospel', 'gothic', 'grime', 'grunge', 'gypsy', 'handsup', \"hard'n'heavy\", 'hardcore', 'hardstyle', 'hardtechno', 'hip', 'hip-hop', 'hiphop', 'historisch', 'holiday', 'hop', 'horror', 'house', 'idm', 'independent', 'indian', 'indie', 'indipop', 'industrial', 'inspirational', 'instrumental', 'international', 'irish', 'jam', 'japanese', 'jazz', 'jewish', 'jpop', 'jungle', 'k-pop', 'karadeniz', 'karaoke', 'kayokyoku', 'korean', 'laiko', 'latin', 'latino', 'leftfield', 'local', 'lounge', 'loungeelectronic', 'lovers', 'malaysian', 'mandopop', 'marschmusik', 'meditative', 'mediterranean', 'melodic', 'metal', 'metalcore', 'mexican', 'middle', 'minimal', 'miscellaneous', 'modern', 'mood', 'mpb', 'muslim', 'native', 'neoklassik', 'neue', 'new', 'newage', 'newwave', 'nu', 'nujazz', 'numetal', 'oceania', 'old', 'opera', 'orchestral', 'other', 'piano', 'pop', 'popelectronic', 'popeurodance', 'post', 'posthardcore', 'postrock', 'power', 'progmetal', 'progressive', 'psychedelic', 'punjabi', 'punk', 'quebecois', 'ragga', 'ram', 'rancheras', 'rap', 'rave', 'reggae', 'reggaeton', 'regional', 'relax', 'religious', 'retro', 'rhythm', 'rnb', 'rnr', 'rock', 'rockabilly', 'romance', 'roots', 'ruspop', 'rusrap', 'rusrock', 'salsa', 'samba', 'schlager', 'self', 'sertanejo', 'shoegazing', 'showtunes', 'singer', 'ska', 'slow', 'smooth', 'soul', 'soulful', 'sound', 'soundtrack', 'southern', 'specialty', 'speech', 'spiritual', 'sport', 'stonerrock', 'surf', 'swing', 'synthpop', 'sängerportrait', 'tango', 'tanzorchester', 'taraftar', 'tech', 'techno', 'thrash', 'top', 'traditional', 'tradjazz', 'trance', 'tribal', 'trip', 'triphop', 'tropical', 'türk', 'türkçe', 'unknown', 'urban', 'uzbek', 'variété', 'vi', 'videogame', 'vocal', 'western', 'world', 'worldbeat', 'ïîï']\n269\n"
        }
      ],
      "execution_count": 60
    },
    {
      "cell_type": "markdown",
      "source": "Olhe a lista e encontre duplicados implícitos do gênero `hiphop`. Esses podem ser nomes escritos incorretamente, ou nomes alternativos para o mesmo gênero.\n\nVocê verá os seguintes duplicados implícitos:\n* `hip`\n* `hop`\n* `hip-hop`\n\nPara se livrar deles, crie uma função `replace_wrong_genres()` com dois parâmetros:\n* `wrong_genres=` — essa é uma lista que contém todos os valores que você precisa substituir\n* `correct_genre=` — essa é uma string que você vai usar para a substituição\n\nComo resultado, a função deve corrigir os nomes na coluna `'genre'` da tabela `df`, isto é, substituindo cada valor da lista `wrong_genres` por valores de `correct_genre`.\n\nDentro do corpo da função, use um ciclo `'for'` para percorrer a lista de gêneros errados, extrair a coluna `'genre'` e aplicar o método `replace` para fazer as correções.",
      "metadata": {
        "id": "qej-Qmuo_Zct"
      }
    },
    {
      "cell_type": "code",
      "source": "# função para substituir duplicados implícitos\n\ndef replace_wrong_genres(df, wrong_genres, correct_genre):\n    for wrong_genre in wrong_genres:\n        df['genre'] = df['genre'].replace(wrong_genre, correct_genre)\n    return df",
      "metadata": {
        "id": "ErNDkmns_Zct",
        "trusted": false
      },
      "outputs": [],
      "execution_count": 61
    },
    {
      "cell_type": "markdown",
      "source": "Agora, chame a função `replace_wrong_genres()` e passe argumentos apropriados para que ela limpe duplicados implícitos (`hip`, `hop` e `hip-hop`) substituindo-os por `hiphop`:",
      "metadata": {
        "id": "aDoBJxbA_Zct"
      }
    },
    {
      "cell_type": "code",
      "source": "# removendo duplicados implícitos\nwrong_genres = ['hip', 'hop', 'hip-hop']\ncorrect_genre= 'hiphop'\n\ndf = replace_wrong_genres(df, wrong_genres, correct_genre)",
      "metadata": {
        "id": "YN5i2hpmSo09",
        "trusted": false
      },
      "outputs": [],
      "execution_count": 62
    },
    {
      "cell_type": "markdown",
      "source": "Certifique-se que os nomes duplicados foram removidos. Imprima a lista de valores únicos da coluna `'genre'` mais uma vez:",
      "metadata": {
        "id": "zQKF16_RG15m"
      }
    },
    {
      "cell_type": "code",
      "source": "# verificando valores duplicados\ngenre_names = sorted(df['genre'].unique())\n\ngenre_names_qty = df['genre'].nunique()\nprint(genre_names)\nprint(genre_names_qty)",
      "metadata": {
        "id": "wvixALnFG15m",
        "trusted": false
      },
      "outputs": [
        {
          "name": "stdout",
          "output_type": "stream",
          "text": "['acid', 'acoustic', 'action', 'adult', 'africa', 'afrikaans', 'alternative', 'ambient', 'americana', 'animated', 'anime', 'arabesk', 'arabic', 'arena', 'argentinetango', 'art', 'audiobook', 'avantgarde', 'axé', 'baile', 'balkan', 'beats', 'bigroom', 'black', 'bluegrass', 'blues', 'bollywood', 'bossa', 'brazilian', 'breakbeat', 'breaks', 'broadway', 'cantautori', 'cantopop', 'canzone', 'caribbean', 'caucasian', 'celtic', 'chamber', 'children', 'chill', 'chinese', 'choral', 'christian', 'christmas', 'classical', 'classicmetal', 'club', 'colombian', 'comedy', 'conjazz', 'contemporary', 'country', 'cuban', 'dance', 'dancehall', 'dancepop', 'dark', 'death', 'deep', 'deutschrock', 'deutschspr', 'dirty', 'disco', 'dnb', 'documentary', 'downbeat', 'downtempo', 'drum', 'dub', 'dubstep', 'eastern', 'easy', 'electronic', 'electropop', 'emo', 'entehno', 'epicmetal', 'estrada', 'ethnic', 'eurofolk', 'european', 'experimental', 'extrememetal', 'fado', 'film', 'fitness', 'flamenco', 'folk', 'folklore', 'folkmetal', 'folkrock', 'folktronica', 'forró', 'frankreich', 'französisch', 'french', 'funk', 'future', 'gangsta', 'garage', 'german', 'ghazal', 'gitarre', 'glitch', 'gospel', 'gothic', 'grime', 'grunge', 'gypsy', 'handsup', \"hard'n'heavy\", 'hardcore', 'hardstyle', 'hardtechno', 'hiphop', 'historisch', 'holiday', 'horror', 'house', 'idm', 'independent', 'indian', 'indie', 'indipop', 'industrial', 'inspirational', 'instrumental', 'international', 'irish', 'jam', 'japanese', 'jazz', 'jewish', 'jpop', 'jungle', 'k-pop', 'karadeniz', 'karaoke', 'kayokyoku', 'korean', 'laiko', 'latin', 'latino', 'leftfield', 'local', 'lounge', 'loungeelectronic', 'lovers', 'malaysian', 'mandopop', 'marschmusik', 'meditative', 'mediterranean', 'melodic', 'metal', 'metalcore', 'mexican', 'middle', 'minimal', 'miscellaneous', 'modern', 'mood', 'mpb', 'muslim', 'native', 'neoklassik', 'neue', 'new', 'newage', 'newwave', 'nu', 'nujazz', 'numetal', 'oceania', 'old', 'opera', 'orchestral', 'other', 'piano', 'pop', 'popelectronic', 'popeurodance', 'post', 'posthardcore', 'postrock', 'power', 'progmetal', 'progressive', 'psychedelic', 'punjabi', 'punk', 'quebecois', 'ragga', 'ram', 'rancheras', 'rap', 'rave', 'reggae', 'reggaeton', 'regional', 'relax', 'religious', 'retro', 'rhythm', 'rnb', 'rnr', 'rock', 'rockabilly', 'romance', 'roots', 'ruspop', 'rusrap', 'rusrock', 'salsa', 'samba', 'schlager', 'self', 'sertanejo', 'shoegazing', 'showtunes', 'singer', 'ska', 'slow', 'smooth', 'soul', 'soulful', 'sound', 'soundtrack', 'southern', 'specialty', 'speech', 'spiritual', 'sport', 'stonerrock', 'surf', 'swing', 'synthpop', 'sängerportrait', 'tango', 'tanzorchester', 'taraftar', 'tech', 'techno', 'thrash', 'top', 'traditional', 'tradjazz', 'trance', 'tribal', 'trip', 'triphop', 'tropical', 'türk', 'türkçe', 'unknown', 'urban', 'uzbek', 'variété', 'vi', 'videogame', 'vocal', 'western', 'world', 'worldbeat', 'ïîï']\n266\n"
        }
      ],
      "execution_count": 63
    },
    {
      "cell_type": "markdown",
      "source": "[Voltar ao Índice](#back)",
      "metadata": {
        "id": "ALgNbvF3VtPA"
      }
    },
    {
      "cell_type": "markdown",
      "source": "### Suas observações <a id='data_preprocessing_conclusions'></a>\n\n` Ao analisar os dados, percebi que o gênero 'hiphop' aparecia com variações de nome diferentes, como 'hip', 'hop' e 'hip-hop'. Essa inconsistência aumenta o risco de análises imprecisas, pois pode fragmentar os dados em categorias separadas que, na verdade, representam o mesmo grupo. Para resolver isso, utilizei uma abordagem de pré-processamento de dados, substituindo os valores duplicados implícitos por um único termo padronizado ('hiphop'). Esse tipo de limpeza é essencial para garantir a consistência dos dados e a precisão dos resultados em etapas posteriores, como agrupamentos, ordenações e testes de hipóteses `\n",
      "metadata": {
        "id": "jz6a9-7HQUDd"
      }
    },
    {
      "cell_type": "markdown",
      "source": "[Voltar ao Índice](#back)",
      "metadata": {
        "id": "eK1es74rVujj"
      }
    },
    {
      "cell_type": "markdown",
      "source": "## Etapa 3. Teste da hipótese <a id='hypothesis'></a>",
      "metadata": {
        "id": "WttZHXH0SqKk"
      }
    },
    {
      "cell_type": "markdown",
      "source": "### Hipótese: comparação do comportamento dos usuários nas duas cidades <a id='activity'></a>",
      "metadata": {
        "id": "Im936VVi_Zcu"
      }
    },
    {
      "cell_type": "markdown",
      "source": "A hipótese afirma que existem diferenças no consumo de música pelos usuários em Springfield e em Shelbyville. Para testar a hipótese, use os dados dos três dias da semana: segunda-feira (Monday), quarta-feira (Wednesday) e sexta-feira (Friday).\n\n* Agrupe os usuários por cidade.\n* Compare o número de músicas tocadas por cada grupo na segunda, quarta e sexta.\n",
      "metadata": {
        "id": "nwt_MuaL_Zcu"
      }
    },
    {
      "cell_type": "markdown",
      "source": "Execute cada cálculo separadamente.\n\nO primeiro passo é avaliar a atividade dos usuários em cada cidade. Não se esqueça das etapas \"divisão-aplicação-combinação\" sobre as quais falamos anteriormente na lição. Agora seu objetivo é agrupar os dados por cidade, aplicar o método de contagem apropriado durante a etapa de aplicação e então encontrar o número de músicas tocadas por cada grupo, especificando a coluna para a qual você quer obter a contagem.\n\nVeja um exemplo de como o resultado final deve ser:\n`df.groupby(by='....')['column'].method()` Execute cada cálculo separadamente.\n\nPara avaliar a atividade dos usuários em cada cidade, agrupe os dados por cidade e encontre o número de músicas reproduzidas em cada grupo.\n\n",
      "metadata": {
        "id": "8Dw_YMmT_Zcu"
      }
    },
    {
      "cell_type": "code",
      "source": "# Contando as músicas tocadas em cada cidade\n \nmusica_por_cidade = df.groupby('city').size()\n \nprint(musica_por_cidade)",
      "metadata": {
        "id": "0_Qs96oh_Zcu",
        "trusted": false
      },
      "outputs": [
        {
          "name": "stdout",
          "output_type": "stream",
          "text": "city\nShelbyville    18512\nSpringfield    42741\ndtype: int64\n"
        }
      ],
      "execution_count": 64
    },
    {
      "cell_type": "markdown",
      "source": "`Com base na hipótese \"A atividade dos usuários é diferente dependendo do dia da semana e da cidade\", podemos dizer que parte dela está correta. Isso porque observamos que a cidade de Springfield teve 24.229 reproduções a mais do que Shelbyville, o que indica uma diferença no comportamento dos usuários entre as cidades.`",
      "metadata": {
        "id": "t_Qx-3NewAnK"
      }
    },
    {
      "cell_type": "markdown",
      "source": "Agora vamos agrupar os dados por dia da semana e encontrar a quantidade de músicas tocadas na segunda, quarta e sexta-feira. Use a mesma abordagem que antes, mas agora precisamos agrupar os dados de uma forma diferente.\n",
      "metadata": {
        "id": "dzli3w8o_Zcu"
      }
    },
    {
      "cell_type": "code",
      "source": "# Calculando as músicas escutadas em cada um desses três dias\n\ndf[df['day'].isin(['Monday', 'Wednesday', 'Friday'])].groupby('day').size()\n",
      "metadata": {
        "id": "uZMKjiJz_Zcu",
        "scrolled": true,
        "trusted": false
      },
      "outputs": [
        {
          "data": {
            "text/plain": "day\nFriday       21840\nMonday       21354\nWednesday    18059\ndtype: int64"
          },
          "execution_count": 65,
          "metadata": {},
          "output_type": "execute_result"
        }
      ],
      "execution_count": 65
    },
    {
      "cell_type": "markdown",
      "source": "`Com base na hipótese, podemos dizer que a atividade dos usuários também varia de acordo com o dia da semana, sendo a sexta-feira o dia com mais reproduções.\"`",
      "metadata": {
        "id": "cC2tNrlL_Zcu"
      }
    },
    {
      "cell_type": "markdown",
      "source": "Você acabou de aprender como contar entradas agrupando-as por cidade ou por dia. E agora você precisa escrever uma função que possa contar entradas simultaneamente com base em ambos os critérios.\n\nCrie a função `number_tracks()` para calcular o número de músicas tocadas em um determinado dia **e** em uma determinada cidade. A função deve aceitar dois parâmetros:\n\n- `day`: um dia da semana pelo qual precisamos filtrar os dados. Por exemplo, `'Monday'`.\n- `city`: uma cidade pela qual precisamos filtrar os dados. Por exemplo, `'Springfield'`.\n\nDentro da função, você vai aplicar uma filtragem consecutiva com indexação lógica.\n\nPrimeiro, filtre os dados por dia e então filtre a tabela resultante por cidade.\n\nDepois de filtrar os dados usando os dois critérios, conte o número de valores na coluna 'user_id' da tabela resultante. O resultado da contagem representará o número de entradas que você quer encontrar. Armazene o resultado em uma nova variável e imprima-o.",
      "metadata": {
        "id": "POzs8bGa_Zcu"
      }
    },
    {
      "cell_type": "code",
      "source": "# Declare a função number_tracks() com dois parâmetros: day= e city=.\n\n    # Armazene as linhas do DataFrame em que o valor na coluna 'day' é igual ao parâmetro day=\n\n    # Filtre as linhas em que o valor na coluna 'city' é igual ao parâmetro city=\n\n    # Extraia a coluna 'user_id' da tabela filtrada e aplique o método count()\n\n    # Retorne o número dos valores da coluna 'user_id'\n    \ndef number_tracks(df, day, city):\n    df_filtrado_dia = df[df['day'] == day]\n    df_filtrado_cidade = df_filtrado_dia[df_filtrado_dia['city'] == city]\n    total = df_filtrado_cidade['user_id'].count()\n    return total",
      "metadata": {
        "id": "Nz3GdQB1_Zcu",
        "trusted": false
      },
      "outputs": [],
      "execution_count": 66
    },
    {
      "cell_type": "markdown",
      "source": "Chame a função `number_tracks()` seis vezes, mudando os valores dos parâmetros, para que você possa recuperar os dados de ambas as cidades para cada um dos três dias.",
      "metadata": {
        "id": "ytf7xFrFJQ2r"
      }
    },
    {
      "cell_type": "code",
      "source": "# a quantidade de músicas tocadas em Springfield na segunda-feira\nnumber_tracks(df, 'Monday', 'Springfield')",
      "metadata": {
        "id": "rJcRATNQ_Zcu",
        "trusted": false
      },
      "outputs": [
        {
          "data": {
            "text/plain": "15740"
          },
          "execution_count": 67,
          "metadata": {},
          "output_type": "execute_result"
        }
      ],
      "execution_count": 67
    },
    {
      "cell_type": "code",
      "source": "# a quantidade de músicas tocadas em Shelbyville na segunda-feira\nnumber_tracks(df, 'Monday', 'Shelbyville')",
      "metadata": {
        "id": "hq_ncZ5T_Zcu",
        "trusted": false
      },
      "outputs": [
        {
          "data": {
            "text/plain": "5614"
          },
          "execution_count": 68,
          "metadata": {},
          "output_type": "execute_result"
        }
      ],
      "execution_count": 68
    },
    {
      "cell_type": "code",
      "source": "# a quantidade de músicas tocadas em Springfield na quarta-feira\nnumber_tracks(df, 'Wednesday', 'Springfield')",
      "metadata": {
        "id": "_NTy2VPU_Zcu",
        "trusted": false
      },
      "outputs": [
        {
          "data": {
            "text/plain": "11056"
          },
          "execution_count": 69,
          "metadata": {},
          "output_type": "execute_result"
        }
      ],
      "execution_count": 69
    },
    {
      "cell_type": "code",
      "source": "# a quantidade de músicas tocadas em Shelbyville na quarta-feira\nnumber_tracks(df, 'Wednesday', 'Shelbyville')",
      "metadata": {
        "id": "j2y3TAwo_Zcu",
        "trusted": false
      },
      "outputs": [
        {
          "data": {
            "text/plain": "7003"
          },
          "execution_count": 70,
          "metadata": {},
          "output_type": "execute_result"
        }
      ],
      "execution_count": 70
    },
    {
      "cell_type": "code",
      "source": "# a quantidade de músicas tocadas em Springfield na sexta-feira\nnumber_tracks(df, 'Friday', 'Springfield')",
      "metadata": {
        "id": "vYDw5u_K_Zcu",
        "trusted": false
      },
      "outputs": [
        {
          "data": {
            "text/plain": "15945"
          },
          "execution_count": 71,
          "metadata": {},
          "output_type": "execute_result"
        }
      ],
      "execution_count": 71
    },
    {
      "cell_type": "code",
      "source": "# a quantidade de músicas tocadas em Shelbyville na sexta-feira\nnumber_tracks(df, 'Friday', 'Shelbyville')",
      "metadata": {
        "id": "8_yzFtW3_Zcu",
        "trusted": false
      },
      "outputs": [
        {
          "data": {
            "text/plain": "5895"
          },
          "execution_count": 72,
          "metadata": {},
          "output_type": "execute_result"
        }
      ],
      "execution_count": 72
    },
    {
      "cell_type": "markdown",
      "source": "**Conclusões**\n\n`Comente sobre se a terceira hipótese está correta ou deve ser rejeitada. Explique seu raciocínio.`\n\n\n`A terceira hipótese deve ser rejeitada, pois os dados não demonstram diferenças de comportamento dos usuários entre as cidades. O maior número de reproduções em Springfield pode estar relacionado a uma maior quantidade de usuários, e não a um padrão de uso diferente`",
      "metadata": {
        "id": "-EgPIHYu_Zcu"
      }
    },
    {
      "cell_type": "markdown",
      "source": "[Voltar ao Índice](#back)",
      "metadata": {
        "id": "p7nFQajCVw5B"
      }
    },
    {
      "cell_type": "markdown",
      "source": "# Conclusões <a id='end'></a>",
      "metadata": {
        "id": "ykKQ0N65_Zcv"
      }
    },
    {
      "cell_type": "markdown",
      "source": "````\nApós realizar o análise dos dados, podemos concluir que a atividade dos usuários em relação à reprodução de músicas é influenciada principalmente por fatores como o dia da semana e a cidade. Embora tenha sido observada uma maior quantidade de reproduções em Springfield em comparação com Shelbyville, não podemos afirmar com certeza que essa diferença seja significativa para entender um comportamento distinto entre as cidades, uma vez que não temos informações suficientes sobre o número de usuários em cada cidade e seu comportamento individual. No entanto, foi identificado que as sextas-feiras são os dias com maior atividade em ambas as cidades, o que sugere que os usuários tendem a ouvir mais músicas nesse dia.\n\nEm resumo, a hipótese sobre as diferenças na atividade dos usuários por cidade não pode ser confirmada devido à falta de dados adicionais, enquanto a hipótese relacionada aos dias da semana mostra tendências consistentes que merecem maior atenção. `",
      "metadata": {
        "id": "tjUwbHb3_Zcv"
      }
    },
    {
      "cell_type": "markdown",
      "source": "### Importante\nEm projetos de pesquisas reais, o teste estatístico de hipóteses é mais preciso e quantitativo. Observe também que conclusões sobre uma cidade inteira nem sempre podem ser tiradas a partir de dados de apenas uma fonte.\n\nVocê aprenderá mais sobre testes de hipóteses no sprint sobre a análise estatística de dados.",
      "metadata": {
        "id": "azLHu64yOIp7"
      }
    },
    {
      "cell_type": "markdown",
      "source": "[Voltar ao Índice](#back)",
      "metadata": {
        "id": "Ju4AHDSgV1FE"
      }
    }
  ]
}